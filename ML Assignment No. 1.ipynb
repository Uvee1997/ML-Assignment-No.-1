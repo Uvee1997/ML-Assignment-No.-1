{
 "cells": [
  {
   "cell_type": "markdown",
   "id": "10e9d65d",
   "metadata": {},
   "source": [
    "1) What does one mean by the term of \"Machine Learning\"?\n",
    "\n",
    ":- It is the type of AI that allows software applications to become more accurate at predicting outcomes without being \n",
    "   explicitly programmed to do so.  "
   ]
  },
  {
   "cell_type": "markdown",
   "id": "bff18a07",
   "metadata": {},
   "source": [
    "2) Can you think of 4 distinct types of issues where it shines?\n",
    "\n",
    ":- Cancer diagnosis, Automatically driving vehicles, Spam detection in mail, fraudul credit card transition.  "
   ]
  },
  {
   "cell_type": "markdown",
   "id": "ff0edf04",
   "metadata": {},
   "source": [
    "3) What is a labeled training set, and how does it work?\n",
    "\n",
    ":- Labeled Data - A group of samples that have been tagged with one or more lables.\n",
    "   The training set used to train algorithms and then you used the train model on the test set to predict the response \n",
    "   variable values that are already known"
   ]
  },
  {
   "cell_type": "markdown",
   "id": "203e0821",
   "metadata": {},
   "source": [
    "4) What are the two most important tasks that are supervised?\n",
    "\n",
    ":- Regression and classification "
   ]
  },
  {
   "cell_type": "markdown",
   "id": "26958dc6",
   "metadata": {},
   "source": [
    "5) Can you think of four examples of unsupervised tasks?\n",
    "\n",
    ":- K-Means Clustering, Principal Component Analysis and Hierarchical Clustering."
   ]
  },
  {
   "cell_type": "markdown",
   "id": "9905b7c0",
   "metadata": {},
   "source": [
    "6) State the machine learning model that would be best to make a robot walk through various\n",
    "   unfamiliar terrains?\n",
    "    \n",
    ":- Rainforced Learning model is used to walk through various unfamiliar terrains.     "
   ]
  },
  {
   "cell_type": "markdown",
   "id": "30b3c51b",
   "metadata": {},
   "source": [
    "7) Which algorithm will you use to divide your customers into different groups?\n",
    "\n",
    ":- k-means clustering algorithm"
   ]
  },
  {
   "cell_type": "markdown",
   "id": "0af3d612",
   "metadata": {},
   "source": [
    "8) Will you consider the problem of spam detection to be a supervised or unsupervised learning\n",
    "   problem?\n",
    "    \n",
    ":- Spam detection is classic supervised learning problem.      "
   ]
  },
  {
   "cell_type": "markdown",
   "id": "3c364ebe",
   "metadata": {},
   "source": [
    "9) What is the concept of an online learning system?\n",
    "\n",
    ":- A learning system is based on formalized teaching but with help of electronic resources known as online learning system."
   ]
  },
  {
   "cell_type": "markdown",
   "id": "31949d58",
   "metadata": {},
   "source": [
    "10) What is out-of-core learning, and how does it differ from core learning?\n",
    "\n",
    ":- The term out-of-core typically refers to processing data that is too large to fit into a computer’s main memory."
   ]
  },
  {
   "cell_type": "markdown",
   "id": "0d878b40",
   "metadata": {},
   "source": [
    "11) What kind of learning algorithm makes predictions using a similarity measure?\n",
    "\n",
    ":- Instance based algorithm"
   ]
  },
  {
   "cell_type": "markdown",
   "id": "bfd71266",
   "metadata": {},
   "source": [
    "12) What's the difference between a model parameter and a hyperparameter in a learning algorithm?\n",
    "\n",
    ":- Model parameter = These are the parameters in the model that must be determined by using training dataset. These are \n",
    "   fitted parameters.\n",
    "   Hyperparameter = These are adjustable parameters that must be tuned in order to obtain a model with optimal performance"
   ]
  },
  {
   "cell_type": "markdown",
   "id": "5f258fb3",
   "metadata": {},
   "source": [
    "13) What are the criteria that model-based learning algorithms look for? What is the most popular method they use \n",
    "    to achieve success? What method do they use to make predictions?\n",
    "    \n",
    ":- The goal for a model-based algorithm is to be able to generalize to new examples. To do this, model based algorithms search for optimal values for the model's parameters, often called theta. \n",
    "    This searching, or \"learning\", is what machine learning is all about. Model-based system learn by minimizing a cost function that measures how bad the system is at making predicitons on new data,\n",
    "    plus a penalty for model complexity if the model is regularized. \n",
    "To  make a prediction, a new instance's features are fed into a hypothesis function which uses the minimized theta found by repeatedly running the cost function.    "
   ]
  },
  {
   "cell_type": "markdown",
   "id": "055c7202",
   "metadata": {},
   "source": [
    "14) Can you name four of the most important Machine Learning challenges?\n",
    "\n",
    ":- i) Not gathering enough data, or sampling noise. Sampling noise means we'll have non-representative \n",
    "      data as a result of chance.\n",
    "   ii) Using a dataset that is not representative of the cases you want to generalize to. This is called sampling bias. \n",
    "       For example, if you want to train an algorithm with \"cat videos\", and all your videos are from YouTube, \n",
    "       you're actually training an algorithm to learn about \"YouTube cat videos.\"\n",
    "   iii) Your data is full of missing values, outliers & noise.\n",
    "    iv) The features in your dataset are irrelevant. Garbage in, garbage out.\n",
    "         Feature selection - choose the most relevant features from your dataset\n",
    "         Feature extraction - combine features in your dataset to generate a new, more useful feature\n",
    "     v) When your model performs well on the training data, but not on test data, you've over fit your model. \n",
    "         Models that suffer from overfitting do not generalize well to new examples. \n",
    "        Overfitting happens when the model is too complex relative to the amount and noisiness of the data. \n",
    " "
   ]
  },
  {
   "cell_type": "markdown",
   "id": "eadfb289",
   "metadata": {},
   "source": [
    "15) What happens if the model performs well on the training data but fails to generalize the results\n",
    "    to new situations? Can you think of three different options?\n",
    "    \n",
    ":- This is the case where model is overfitting the training data. To counteract overfitting we can reduce complexity\n",
    "    of model by removing the feature or constraining the parameter.We could gather more data. Finally we can reduce \n",
    "    noisiness in the date by fixing error & removing outliers.  "
   ]
  },
  {
   "cell_type": "markdown",
   "id": "5bd5f523",
   "metadata": {},
   "source": [
    "16) What exactly is a test set, and why would you need one?\n",
    "\n",
    ":- A separate set of data used to test model after completing the training. Our model is training with the training set. \n",
    "   Then we use the model to run predictions on the test set. Our error rate on the test set is called the generalization      error or out-of-sample error. "
   ]
  },
  {
   "cell_type": "markdown",
   "id": "6ab55093",
   "metadata": {},
   "source": [
    "17) What is a validation set's purpose?\n",
    "\n",
    ":- A validation set is the set of the data used to train AI with goal of finding & optimizing the best model to solve\n",
    "   the given problem. It also known as dev set.\n",
    "   Let's say we have a linear model and we want to perform some hyperparameter tuning to reduce the generalization error. \n",
    "    One way to do this 100 different models with 100 different hyperparameter values using the training set and finding the generalization error with the test set. \n",
    "    You find the best hyperparameter value gives you 5% generalization error."
   ]
  },
  {
   "cell_type": "markdown",
   "id": "39826c9a",
   "metadata": {},
   "source": [
    "18) What precisely is the train-dev kit, when will you need it, how do you put it to use?\n",
    "\n",
    ":- Dev kit Learning algorithm like gradient descent use training data iteratively to learn the parameters of the model.\n",
    "   data is slowly memorized into the parametric aspect of the model with the goal of generalizing this model to unseen data. "
   ]
  },
  {
   "cell_type": "markdown",
   "id": "4f7fc6f3",
   "metadata": {},
   "source": [
    "19) What could go wrong if you use the test set to tune hyperparameters?\n",
    "\n",
    ":-  Your model will not be generalizable to new example."
   ]
  }
 ],
 "metadata": {
  "kernelspec": {
   "display_name": "Python 3 (ipykernel)",
   "language": "python",
   "name": "python3"
  },
  "language_info": {
   "codemirror_mode": {
    "name": "ipython",
    "version": 3
   },
   "file_extension": ".py",
   "mimetype": "text/x-python",
   "name": "python",
   "nbconvert_exporter": "python",
   "pygments_lexer": "ipython3",
   "version": "3.9.7"
  }
 },
 "nbformat": 4,
 "nbformat_minor": 5
}
